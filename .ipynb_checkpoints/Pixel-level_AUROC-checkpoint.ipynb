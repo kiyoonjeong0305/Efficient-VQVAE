{
 "cells": [
  {
   "cell_type": "markdown",
   "id": "cad8538f-d6b2-41b5-857b-5ca2dd230407",
   "metadata": {},
   "source": [
    "# Pixel-level AUROC"
   ]
  },
  {
   "cell_type": "code",
   "execution_count": 1,
   "id": "431b2f48-a0b0-4cbc-9031-cd129bfe7004",
   "metadata": {},
   "outputs": [
    {
     "ename": "ModuleNotFoundError",
     "evalue": "No module named 'matplotlib'",
     "output_type": "error",
     "traceback": [
      "\u001b[0;31m---------------------------------------------------------------------------\u001b[0m",
      "\u001b[0;31mModuleNotFoundError\u001b[0m                       Traceback (most recent call last)",
      "Cell \u001b[0;32mIn[1], line 2\u001b[0m\n\u001b[1;32m      1\u001b[0m \u001b[38;5;28;01mfrom\u001b[39;00m \u001b[38;5;21;01mPIL\u001b[39;00m \u001b[38;5;28;01mimport\u001b[39;00m Image\n\u001b[0;32m----> 2\u001b[0m \u001b[38;5;28;01mimport\u001b[39;00m \u001b[38;5;21;01mmatplotlib\u001b[39;00m\u001b[38;5;21;01m.\u001b[39;00m\u001b[38;5;21;01mpyplot\u001b[39;00m \u001b[38;5;28;01mas\u001b[39;00m \u001b[38;5;21;01mplt\u001b[39;00m\n\u001b[1;32m      3\u001b[0m \u001b[38;5;28;01mfrom\u001b[39;00m \u001b[38;5;21;01msklearn\u001b[39;00m\u001b[38;5;21;01m.\u001b[39;00m\u001b[38;5;21;01mmetrics\u001b[39;00m \u001b[38;5;28;01mimport\u001b[39;00m roc_auc_score\n\u001b[1;32m      4\u001b[0m \u001b[38;5;28;01mimport\u001b[39;00m \u001b[38;5;21;01mnumpy\u001b[39;00m \u001b[38;5;28;01mas\u001b[39;00m \u001b[38;5;21;01mnp\u001b[39;00m\n",
      "\u001b[0;31mModuleNotFoundError\u001b[0m: No module named 'matplotlib'"
     ]
    }
   ],
   "source": [
    "from PIL import Image\n",
    "import matplotlib.pyplot as plt\n",
    "from sklearn.metrics import roc_auc_score\n",
    "import numpy as np\n",
    "from tqdm import tqdm\n",
    "from glob import glob\n",
    "import pandas as pd"
   ]
  },
  {
   "cell_type": "code",
   "execution_count": 2,
   "id": "7705341e-27df-470b-999b-e8b1f9eff020",
   "metadata": {},
   "outputs": [],
   "source": [
    "def auroc_check(gt_path, am_path):\n",
    "    gt_map = Image.open(gt_path)\n",
    "    anomaly_map = Image.open(am_path)\n",
    "\n",
    "    gt_map_flatten = (np.array(gt_map).flatten())/255\n",
    "    anomaly_map_flatten = np.array(anomaly_map).flatten()\n",
    "    \n",
    "\n",
    "    return roc_auc_score(gt_map_flatten, anomaly_map_flatten)"
   ]
  },
  {
   "cell_type": "code",
   "execution_count": 94,
   "id": "87c91d67-07b1-443f-9953-76e6a4702e73",
   "metadata": {},
   "outputs": [],
   "source": [
    "gt_paths = glob(\"/workspace/EfficientAD-VQVAE/mvtec_anomaly_detection/bottle/ground_truth/*/*.png\")\n",
    "am_paths = glob(\"/workspace/EfficientAD-VQVAE/output/1/anomaly_maps/mvtec_ad/bottle/test/[!good]*/*.tiff\") # good 디렉토리 제외\n",
    "\n",
    "gt_paths.sort()\n",
    "am_paths.sort()\n",
    "\n",
    "paths = zip(gt_paths, am_paths)"
   ]
  },
  {
   "cell_type": "code",
   "execution_count": 95,
   "id": "5dea2f03-3ec4-4516-bb5b-7cd41cc71cc5",
   "metadata": {
    "scrolled": true
   },
   "outputs": [
    {
     "name": "stderr",
     "output_type": "stream",
     "text": [
      "63it [00:10,  5.82it/s]\n"
     ]
    }
   ],
   "source": [
    "result = {'name':[],\n",
    "         'auroc':[]}\n",
    "\n",
    "for gt, am in tqdm(paths):\n",
    "    text = gt.split(\"/\")\n",
    "    name = text[-2]+text[-1][:3]\n",
    "    \n",
    "    auroc = auroc_check(gt, am)\n",
    "    \n",
    "    result['name'].append(name)\n",
    "    result['auroc'].append(auroc)"
   ]
  },
  {
   "cell_type": "code",
   "execution_count": 97,
   "id": "90ee75a8-d77c-41e9-936d-d64c50dba6f5",
   "metadata": {},
   "outputs": [],
   "source": [
    "df = pd.DataFrame.from_dict(result)"
   ]
  },
  {
   "cell_type": "code",
   "execution_count": 98,
   "id": "8f2b834c-bbdf-405b-80a2-0c55c76ed9f1",
   "metadata": {},
   "outputs": [
    {
     "data": {
      "text/plain": [
       "0.9877775329311647"
      ]
     },
     "execution_count": 98,
     "metadata": {},
     "output_type": "execute_result"
    }
   ],
   "source": [
    "df['auroc'].mean()"
   ]
  },
  {
   "cell_type": "code",
   "execution_count": 99,
   "id": "de4a6795-934d-4e49-8262-f3e48609db14",
   "metadata": {},
   "outputs": [],
   "source": [
    "import os"
   ]
  },
  {
   "cell_type": "code",
   "execution_count": null,
   "id": "54aefe3d-7a7f-4696-af92-361e87512cbf",
   "metadata": {},
   "outputs": [],
   "source": [
    "os.mkdir()"
   ]
  },
  {
   "cell_type": "code",
   "execution_count": 103,
   "id": "c21b7848-bb12-44c4-850e-ec17ae5122eb",
   "metadata": {},
   "outputs": [
    {
     "data": {
      "text/plain": [
       "2"
      ]
     },
     "execution_count": 103,
     "metadata": {},
     "output_type": "execute_result"
    }
   ],
   "source": [
    "10//8+1"
   ]
  },
  {
   "cell_type": "code",
   "execution_count": 102,
   "id": "2bd0ef8e-d8b5-4a9d-9ae5-1f1b23495bdf",
   "metadata": {},
   "outputs": [
    {
     "data": {
      "text/plain": [
       "1"
      ]
     },
     "execution_count": 102,
     "metadata": {},
     "output_type": "execute_result"
    }
   ],
   "source": [
    "10%3"
   ]
  }
 ],
 "metadata": {
  "kernelspec": {
   "display_name": "Python 3 (ipykernel)",
   "language": "python",
   "name": "python3"
  },
  "language_info": {
   "codemirror_mode": {
    "name": "ipython",
    "version": 3
   },
   "file_extension": ".py",
   "mimetype": "text/x-python",
   "name": "python",
   "nbconvert_exporter": "python",
   "pygments_lexer": "ipython3",
   "version": "3.10.12"
  }
 },
 "nbformat": 4,
 "nbformat_minor": 5
}
