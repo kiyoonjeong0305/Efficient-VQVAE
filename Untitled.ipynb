{
 "cells": [
  {
   "cell_type": "code",
   "execution_count": 1,
   "id": "518d64c0-6f49-4580-8051-e9c1fc47fe5f",
   "metadata": {},
   "outputs": [],
   "source": [
    "import torch\n",
    "import numpy as np\n",
    "from models import encoder, decoder, quantizer, residual, vqvae"
   ]
  },
  {
   "cell_type": "code",
   "execution_count": 2,
   "id": "a5370d22-1419-4114-94fb-2432ce907b85",
   "metadata": {},
   "outputs": [],
   "source": [
    "from torch import nn"
   ]
  },
  {
   "cell_type": "code",
   "execution_count": 4,
   "id": "deb00768-d124-474e-a907-fc84a0d4c6b3",
   "metadata": {},
   "outputs": [],
   "source": [
    "enc = encoder.Encoder(in_dim=3, h_dim=64, n_res_layers=2, res_h_dim=64)"
   ]
  },
  {
   "cell_type": "code",
   "execution_count": 5,
   "id": "baef0f70-cf25-434c-ad4f-2affd9f24d6c",
   "metadata": {},
   "outputs": [],
   "source": [
    "pre_quantization_conv = nn.Conv2d(64, 64, kernel_size=1, stride=1)"
   ]
  },
  {
   "cell_type": "code",
   "execution_count": 6,
   "id": "95c72010-b420-4f8f-9551-b14cdcee69e0",
   "metadata": {},
   "outputs": [],
   "source": [
    "vector_quantization = quantizer.VectorQuantizer(64, 64, 0.25)"
   ]
  },
  {
   "cell_type": "code",
   "execution_count": 7,
   "id": "796b4018-5d5a-49cf-8714-bdd38505be0c",
   "metadata": {},
   "outputs": [],
   "source": [
    "dec = decoder.Decoder(in_dim=64, h_dim=64, n_res_layers=2, res_h_dim=64)"
   ]
  },
  {
   "cell_type": "code",
   "execution_count": 8,
   "id": "b0080214-ab36-4ac8-86e7-663d0a3c7126",
   "metadata": {
    "scrolled": true
   },
   "outputs": [
    {
     "data": {
      "text/plain": [
       "Decoder(\n",
       "  (inverse_conv_stack): Sequential(\n",
       "    (0): Upsample(size=3, mode='bilinear')\n",
       "    (1): Conv2d(64, 64, kernel_size=(4, 4), stride=(1, 1), padding=(2, 2))\n",
       "    (2): ReLU(inplace=True)\n",
       "    (3): Dropout(p=0.2, inplace=False)\n",
       "    (4): Upsample(size=8, mode='bilinear')\n",
       "    (5): Conv2d(64, 64, kernel_size=(4, 4), stride=(1, 1), padding=(2, 2))\n",
       "    (6): ReLU(inplace=True)\n",
       "    (7): Dropout(p=0.2, inplace=False)\n",
       "    (8): Upsample(size=15, mode='bilinear')\n",
       "    (9): Conv2d(64, 64, kernel_size=(4, 4), stride=(1, 1), padding=(2, 2))\n",
       "    (10): ReLU(inplace=True)\n",
       "    (11): Dropout(p=0.2, inplace=False)\n",
       "    (12): Upsample(size=32, mode='bilinear')\n",
       "    (13): Conv2d(64, 64, kernel_size=(4, 4), stride=(1, 1), padding=(2, 2))\n",
       "    (14): ReLU(inplace=True)\n",
       "    (15): Dropout(p=0.2, inplace=False)\n",
       "    (16): Upsample(size=63, mode='bilinear')\n",
       "    (17): Conv2d(64, 64, kernel_size=(4, 4), stride=(1, 1), padding=(2, 2))\n",
       "    (18): ReLU(inplace=True)\n",
       "    (19): Dropout(p=0.2, inplace=False)\n",
       "    (20): Upsample(size=127, mode='bilinear')\n",
       "    (21): Conv2d(64, 64, kernel_size=(4, 4), stride=(1, 1), padding=(2, 2))\n",
       "    (22): ReLU(inplace=True)\n",
       "    (23): Dropout(p=0.2, inplace=False)\n",
       "    (24): Upsample(size=56, mode='bilinear')\n",
       "    (25): Conv2d(64, 64, kernel_size=(3, 3), stride=(1, 1), padding=(1, 1))\n",
       "    (26): ReLU(inplace=True)\n",
       "    (27): Conv2d(64, 384, kernel_size=(3, 3), stride=(1, 1), padding=(1, 1))\n",
       "  )\n",
       ")"
      ]
     },
     "execution_count": 8,
     "metadata": {},
     "output_type": "execute_result"
    }
   ],
   "source": [
    "enc.cuda()\n",
    "pre_quantization_conv.cuda()\n",
    "vector_quantization.cuda()\n",
    "dec.cuda()"
   ]
  },
  {
   "cell_type": "code",
   "execution_count": 9,
   "id": "2c4a296a-6461-453f-90d0-24988c729afb",
   "metadata": {},
   "outputs": [],
   "source": [
    "x = np.random.random_sample((1, 3, 256, 256))\n",
    "x = torch.tensor(x).float().cuda()"
   ]
  },
  {
   "cell_type": "code",
   "execution_count": 10,
   "id": "4ba0790a-8c48-4d97-8e2f-fbe4d6952b2a",
   "metadata": {},
   "outputs": [
    {
     "data": {
      "text/plain": [
       "torch.Size([1, 3, 256, 256])"
      ]
     },
     "execution_count": 10,
     "metadata": {},
     "output_type": "execute_result"
    }
   ],
   "source": [
    "x.shape"
   ]
  },
  {
   "cell_type": "code",
   "execution_count": 11,
   "id": "a5de0e87-5307-44e4-be96-62259d93caae",
   "metadata": {},
   "outputs": [
    {
     "data": {
      "text/plain": [
       "torch.Size([1, 64, 16, 16])"
      ]
     },
     "execution_count": 11,
     "metadata": {},
     "output_type": "execute_result"
    }
   ],
   "source": [
    "z_e = enc(x)\n",
    "z_e.shape"
   ]
  },
  {
   "cell_type": "code",
   "execution_count": 12,
   "id": "e7483f33-43d5-4f8f-a95a-3264bb65a199",
   "metadata": {},
   "outputs": [
    {
     "data": {
      "text/plain": [
       "torch.Size([1, 64, 16, 16])"
      ]
     },
     "execution_count": 12,
     "metadata": {},
     "output_type": "execute_result"
    }
   ],
   "source": [
    "z_e = pre_quantization_conv(z_e)\n",
    "z_e.shape"
   ]
  },
  {
   "cell_type": "code",
   "execution_count": 13,
   "id": "1388d6cf-63c8-4580-8703-82866a4d0256",
   "metadata": {},
   "outputs": [
    {
     "data": {
      "text/plain": [
       "torch.Size([1, 64, 16, 16])"
      ]
     },
     "execution_count": 13,
     "metadata": {},
     "output_type": "execute_result"
    }
   ],
   "source": [
    "_, z_q, _, _, _ = vector_quantization(z_e)\n",
    "z_q.shape"
   ]
  },
  {
   "cell_type": "code",
   "execution_count": 14,
   "id": "08df80a2-0797-40c0-87a4-7db07cfcfe9f",
   "metadata": {},
   "outputs": [],
   "source": [
    "x_hat = dec(z_q)"
   ]
  },
  {
   "cell_type": "code",
   "execution_count": 15,
   "id": "5bddf2ed-05b0-44c3-b4b8-3f8ab35a905b",
   "metadata": {},
   "outputs": [
    {
     "data": {
      "text/plain": [
       "torch.Size([1, 384, 56, 56])"
      ]
     },
     "execution_count": 15,
     "metadata": {},
     "output_type": "execute_result"
    }
   ],
   "source": [
    "x_hat.shape"
   ]
  },
  {
   "cell_type": "markdown",
   "id": "d8b59386-dbf5-4be0-a397-1b4ece5bb50d",
   "metadata": {},
   "source": [
    "# effad ae"
   ]
  },
  {
   "cell_type": "code",
   "execution_count": 16,
   "id": "7537cfbb-567a-4448-80d1-683220d3a931",
   "metadata": {},
   "outputs": [],
   "source": [
    "from common import get_autoencoder, get_pdn_small, get_pdn_medium"
   ]
  },
  {
   "cell_type": "code",
   "execution_count": 17,
   "id": "c9404909-0946-4af5-a74d-cd8d95a0bed3",
   "metadata": {},
   "outputs": [],
   "source": [
    "autoencoder = get_autoencoder()"
   ]
  },
  {
   "cell_type": "code",
   "execution_count": 18,
   "id": "85ed7300-5552-400e-8e4c-08aa53ef72f6",
   "metadata": {
    "scrolled": true
   },
   "outputs": [
    {
     "data": {
      "text/plain": [
       "Sequential(\n",
       "  (0): Conv2d(3, 32, kernel_size=(4, 4), stride=(2, 2), padding=(1, 1))\n",
       "  (1): ReLU(inplace=True)\n",
       "  (2): Conv2d(32, 32, kernel_size=(4, 4), stride=(2, 2), padding=(1, 1))\n",
       "  (3): ReLU(inplace=True)\n",
       "  (4): Conv2d(32, 64, kernel_size=(4, 4), stride=(2, 2), padding=(1, 1))\n",
       "  (5): ReLU(inplace=True)\n",
       "  (6): Conv2d(64, 64, kernel_size=(4, 4), stride=(2, 2), padding=(1, 1))\n",
       "  (7): ReLU(inplace=True)\n",
       "  (8): Conv2d(64, 64, kernel_size=(4, 4), stride=(2, 2), padding=(1, 1))\n",
       "  (9): ReLU(inplace=True)\n",
       "  (10): Conv2d(64, 64, kernel_size=(8, 8), stride=(1, 1))\n",
       "  (11): Upsample(size=3, mode='bilinear')\n",
       "  (12): Conv2d(64, 64, kernel_size=(4, 4), stride=(1, 1), padding=(2, 2))\n",
       "  (13): ReLU(inplace=True)\n",
       "  (14): Dropout(p=0.2, inplace=False)\n",
       "  (15): Upsample(size=8, mode='bilinear')\n",
       "  (16): Conv2d(64, 64, kernel_size=(4, 4), stride=(1, 1), padding=(2, 2))\n",
       "  (17): ReLU(inplace=True)\n",
       "  (18): Dropout(p=0.2, inplace=False)\n",
       "  (19): Upsample(size=15, mode='bilinear')\n",
       "  (20): Conv2d(64, 64, kernel_size=(4, 4), stride=(1, 1), padding=(2, 2))\n",
       "  (21): ReLU(inplace=True)\n",
       "  (22): Dropout(p=0.2, inplace=False)\n",
       "  (23): Upsample(size=32, mode='bilinear')\n",
       "  (24): Conv2d(64, 64, kernel_size=(4, 4), stride=(1, 1), padding=(2, 2))\n",
       "  (25): ReLU(inplace=True)\n",
       "  (26): Dropout(p=0.2, inplace=False)\n",
       "  (27): Upsample(size=63, mode='bilinear')\n",
       "  (28): Conv2d(64, 64, kernel_size=(4, 4), stride=(1, 1), padding=(2, 2))\n",
       "  (29): ReLU(inplace=True)\n",
       "  (30): Dropout(p=0.2, inplace=False)\n",
       "  (31): Upsample(size=127, mode='bilinear')\n",
       "  (32): Conv2d(64, 64, kernel_size=(4, 4), stride=(1, 1), padding=(2, 2))\n",
       "  (33): ReLU(inplace=True)\n",
       "  (34): Dropout(p=0.2, inplace=False)\n",
       "  (35): Upsample(size=56, mode='bilinear')\n",
       "  (36): Conv2d(64, 64, kernel_size=(3, 3), stride=(1, 1), padding=(1, 1))\n",
       "  (37): ReLU(inplace=True)\n",
       "  (38): Conv2d(64, 384, kernel_size=(3, 3), stride=(1, 1), padding=(1, 1))\n",
       ")"
      ]
     },
     "execution_count": 18,
     "metadata": {},
     "output_type": "execute_result"
    }
   ],
   "source": [
    "autoencoder.cuda()"
   ]
  },
  {
   "cell_type": "code",
   "execution_count": 19,
   "id": "b5539d6b-6bba-4bf0-a3ba-a8a087d081e9",
   "metadata": {},
   "outputs": [
    {
     "data": {
      "text/plain": [
       "torch.Size([1, 384, 56, 56])"
      ]
     },
     "execution_count": 19,
     "metadata": {},
     "output_type": "execute_result"
    }
   ],
   "source": [
    "autoencoder(x).shape"
   ]
  },
  {
   "cell_type": "code",
   "execution_count": 43,
   "id": "cee70292-555b-44e3-bd09-a8d385dd3ad0",
   "metadata": {},
   "outputs": [],
   "source": [
    "test_model = nn.Sequential(\n",
    "        # encoder\n",
    "        nn.Conv2d(in_channels=3, out_channels=32, kernel_size=4, stride=2,\n",
    "                  padding=1),\n",
    "        nn.ReLU(inplace=True),\n",
    "        nn.Conv2d(in_channels=32, out_channels=32, kernel_size=4, stride=2,\n",
    "                  padding=1),\n",
    "        nn.ReLU(inplace=True),\n",
    "        nn.Conv2d(in_channels=32, out_channels=64, kernel_size=4, stride=2,\n",
    "                  padding=1),\n",
    "        nn.ReLU(inplace=True),\n",
    "        nn.Conv2d(in_channels=64, out_channels=64, kernel_size=4, stride=2,\n",
    "                  padding=1),\n",
    "        nn.ReLU(inplace=True),\n",
    "        nn.Conv2d(in_channels=64, out_channels=64, kernel_size=4, stride=2,\n",
    "                  padding=1),\n",
    "        nn.ReLU(inplace=True),\n",
    "        nn.Conv2d(in_channels=64, out_channels=64, kernel_size=8))"
   ]
  },
  {
   "cell_type": "code",
   "execution_count": 80,
   "id": "71ef7f4d-8cd6-469f-a0ff-e082989b0003",
   "metadata": {},
   "outputs": [
    {
     "data": {
      "text/plain": [
       "Sequential(\n",
       "  (0): Conv2d(3, 32, kernel_size=(4, 4), stride=(2, 2), padding=(1, 1))\n",
       "  (1): ReLU(inplace=True)\n",
       "  (2): Conv2d(32, 32, kernel_size=(4, 4), stride=(2, 2), padding=(1, 1))\n",
       "  (3): ReLU(inplace=True)\n",
       "  (4): Conv2d(32, 64, kernel_size=(4, 4), stride=(2, 2), padding=(1, 1))\n",
       "  (5): ReLU(inplace=True)\n",
       "  (6): Conv2d(64, 64, kernel_size=(4, 4), stride=(2, 2), padding=(1, 1))\n",
       "  (7): ReLU(inplace=True)\n",
       "  (8): Conv2d(64, 64, kernel_size=(4, 4), stride=(2, 2), padding=(1, 1))\n",
       "  (9): ReLU(inplace=True)\n",
       "  (10): Conv2d(64, 64, kernel_size=(8, 8), stride=(1, 1))\n",
       ")"
      ]
     },
     "execution_count": 80,
     "metadata": {},
     "output_type": "execute_result"
    }
   ],
   "source": [
    "test_model.cuda()"
   ]
  },
  {
   "cell_type": "code",
   "execution_count": 20,
   "id": "bd3d1cca-7c2a-4079-a7ed-f108f1939b03",
   "metadata": {},
   "outputs": [],
   "source": [
    "pdn = get_pdn_medium()"
   ]
  },
  {
   "cell_type": "code",
   "execution_count": 21,
   "id": "fe56afb0-c80f-4a5b-a8be-753d42881ea5",
   "metadata": {},
   "outputs": [
    {
     "data": {
      "text/plain": [
       "Sequential(\n",
       "  (0): Conv2d(3, 256, kernel_size=(4, 4), stride=(1, 1))\n",
       "  (1): ReLU(inplace=True)\n",
       "  (2): AvgPool2d(kernel_size=2, stride=2, padding=0)\n",
       "  (3): Conv2d(256, 512, kernel_size=(4, 4), stride=(1, 1))\n",
       "  (4): ReLU(inplace=True)\n",
       "  (5): AvgPool2d(kernel_size=2, stride=2, padding=0)\n",
       "  (6): Conv2d(512, 512, kernel_size=(1, 1), stride=(1, 1))\n",
       "  (7): ReLU(inplace=True)\n",
       "  (8): Conv2d(512, 512, kernel_size=(3, 3), stride=(1, 1))\n",
       "  (9): ReLU(inplace=True)\n",
       "  (10): Conv2d(512, 384, kernel_size=(4, 4), stride=(1, 1))\n",
       "  (11): ReLU(inplace=True)\n",
       "  (12): Conv2d(384, 384, kernel_size=(1, 1), stride=(1, 1))\n",
       ")"
      ]
     },
     "execution_count": 21,
     "metadata": {},
     "output_type": "execute_result"
    }
   ],
   "source": [
    "pdn.cuda()"
   ]
  },
  {
   "cell_type": "code",
   "execution_count": 22,
   "id": "f91d5ff4-5995-4b5e-b1a8-6e96c5cc8eb3",
   "metadata": {},
   "outputs": [
    {
     "data": {
      "text/plain": [
       "torch.Size([1, 384, 56, 56])"
      ]
     },
     "execution_count": 22,
     "metadata": {},
     "output_type": "execute_result"
    }
   ],
   "source": [
    "pdn(x).shape"
   ]
  },
  {
   "cell_type": "code",
   "execution_count": 48,
   "id": "6597b00a-db34-4e96-b1b9-c5a21b8365c4",
   "metadata": {},
   "outputs": [
    {
     "data": {
      "text/plain": [
       "torch.Size([1, 3, 256, 256])"
      ]
     },
     "execution_count": 48,
     "metadata": {},
     "output_type": "execute_result"
    }
   ],
   "source": [
    "x.shape"
   ]
  },
  {
   "cell_type": "code",
   "execution_count": 96,
   "id": "46196943-cd51-4a43-9bf0-dd9121dad32f",
   "metadata": {},
   "outputs": [],
   "source": [
    "a = torch.randn([1, 64, 16, 16]).cuda()"
   ]
  },
  {
   "cell_type": "code",
   "execution_count": 87,
   "id": "e3596e89-e5c8-44e8-a645-de71b24870f5",
   "metadata": {},
   "outputs": [
    {
     "data": {
      "text/plain": [
       "torch.Size([1, 3, 16, 16])"
      ]
     },
     "execution_count": 87,
     "metadata": {},
     "output_type": "execute_result"
    }
   ],
   "source": [
    "a.shape"
   ]
  },
  {
   "cell_type": "code",
   "execution_count": 88,
   "id": "e7bed3bd-6cc6-4924-bd2d-7322211ed469",
   "metadata": {},
   "outputs": [],
   "source": [
    "test_net = nn.ConvTranspose2d(3, 64, kernel_size=3, stride=2, padding=1).cuda()"
   ]
  },
  {
   "cell_type": "code",
   "execution_count": 89,
   "id": "e5bf18ae-0810-4210-bedb-c10d57c901d6",
   "metadata": {
    "scrolled": true
   },
   "outputs": [
    {
     "data": {
      "text/plain": [
       "torch.Size([1, 64, 31, 31])"
      ]
     },
     "execution_count": 89,
     "metadata": {},
     "output_type": "execute_result"
    }
   ],
   "source": [
    "test_net(a).shape"
   ]
  },
  {
   "cell_type": "code",
   "execution_count": 92,
   "id": "6c04b260-4cd9-41ca-8173-2d8f68867421",
   "metadata": {},
   "outputs": [],
   "source": [
    "aaaa = nn.Sequential(\n",
    "        # decoder\n",
    "        nn.Upsample(size=3, mode='bilinear'),\n",
    "        nn.Conv2d(in_channels=64, out_channels=64, kernel_size=4, stride=1,\n",
    "                  padding=2),\n",
    "        nn.ReLU(inplace=True),\n",
    "        nn.Dropout(0.2),\n",
    "        nn.Upsample(size=8, mode='bilinear'),\n",
    "        nn.Conv2d(in_channels=64, out_channels=64, kernel_size=4, stride=1,\n",
    "                  padding=2),\n",
    "        nn.ReLU(inplace=True),\n",
    "        nn.Dropout(0.2),\n",
    "        nn.Upsample(size=15, mode='bilinear'),\n",
    "        nn.Conv2d(in_channels=64, out_channels=64, kernel_size=4, stride=1,\n",
    "                  padding=2),\n",
    "        nn.ReLU(inplace=True),\n",
    "        nn.Dropout(0.2),\n",
    "        nn.Upsample(size=32, mode='bilinear'),\n",
    "        nn.Conv2d(in_channels=64, out_channels=64, kernel_size=4, stride=1,\n",
    "                  padding=2),\n",
    "        nn.ReLU(inplace=True),\n",
    "        nn.Dropout(0.2),\n",
    "        nn.Upsample(size=63, mode='bilinear'),\n",
    "        nn.Conv2d(in_channels=64, out_channels=64, kernel_size=4, stride=1,\n",
    "                  padding=2),\n",
    "        nn.ReLU(inplace=True),\n",
    "        nn.Dropout(0.2),\n",
    "        nn.Upsample(size=127, mode='bilinear'),\n",
    "        nn.Conv2d(in_channels=64, out_channels=64, kernel_size=4, stride=1,\n",
    "                  padding=2),\n",
    "        nn.ReLU(inplace=True),\n",
    "        nn.Dropout(0.2),\n",
    "        nn.Upsample(size=56, mode='bilinear'),\n",
    "        nn.Conv2d(in_channels=64, out_channels=64, kernel_size=3, stride=1,\n",
    "                  padding=1),\n",
    "        nn.ReLU(inplace=True),\n",
    "        nn.Conv2d(in_channels=64, out_channels=384, kernel_size=3,\n",
    "                  stride=1, padding=1)\n",
    "    ).cuda()"
   ]
  },
  {
   "cell_type": "code",
   "execution_count": 97,
   "id": "8d1c30eb-ca69-4711-a1cf-34daab39bbf5",
   "metadata": {},
   "outputs": [
    {
     "data": {
      "text/plain": [
       "torch.Size([1, 384, 56, 56])"
      ]
     },
     "execution_count": 97,
     "metadata": {},
     "output_type": "execute_result"
    }
   ],
   "source": [
    "aaaa(a).shape"
   ]
  },
  {
   "cell_type": "code",
   "execution_count": null,
   "id": "986a0fc1-c9ff-4e9f-8dbc-a654bb9f51a3",
   "metadata": {},
   "outputs": [],
   "source": []
  }
 ],
 "metadata": {
  "kernelspec": {
   "display_name": "Python 3 (ipykernel)",
   "language": "python",
   "name": "python3"
  },
  "language_info": {
   "codemirror_mode": {
    "name": "ipython",
    "version": 3
   },
   "file_extension": ".py",
   "mimetype": "text/x-python",
   "name": "python",
   "nbconvert_exporter": "python",
   "pygments_lexer": "ipython3",
   "version": "3.10.12"
  }
 },
 "nbformat": 4,
 "nbformat_minor": 5
}
